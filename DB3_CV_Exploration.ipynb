{
 "cells": [
  {
   "cell_type": "code",
   "execution_count": 251,
   "id": "f753b1f7",
   "metadata": {},
   "outputs": [],
   "source": [
    "import glob\n",
    "import pandas as pd\n",
    "import seaborn as sns\n",
    "import matplotlib.pyplot as plt"
   ]
  },
  {
   "cell_type": "markdown",
   "id": "2c110a88",
   "metadata": {},
   "source": [
    "# Raw Categories distribution"
   ]
  },
  {
   "cell_type": "code",
   "execution_count": 267,
   "id": "08836cd1",
   "metadata": {},
   "outputs": [],
   "source": [
    "cat_df = pd.DataFrame({'Category': ['Administration', 'Audit', 'Compliance','Finance','Cosec','Fund Accounting','Investment','Investor Relations','Legel','Operations','Personal','Random','Sales','Strategy','Trust'],\n",
    "                      'Count': [54,7,52,194,211,1004,149,16,43,139,64,11,111,6,81]})"
   ]
  },
  {
   "cell_type": "code",
   "execution_count": 268,
   "id": "8886aada",
   "metadata": {
    "scrolled": false
   },
   "outputs": [
    {
     "name": "stdout",
     "output_type": "stream",
     "text": [
      "<class 'pandas.core.frame.DataFrame'>\n",
      "RangeIndex: 15 entries, 0 to 14\n",
      "Data columns (total 2 columns):\n",
      " #   Column    Non-Null Count  Dtype \n",
      "---  ------    --------------  ----- \n",
      " 0   Category  15 non-null     object\n",
      " 1   Count     15 non-null     int64 \n",
      "dtypes: int64(1), object(1)\n",
      "memory usage: 368.0+ bytes\n"
     ]
    }
   ],
   "source": [
    "cat_df.info()"
   ]
  },
  {
   "cell_type": "code",
   "execution_count": 269,
   "id": "9bf637b4",
   "metadata": {},
   "outputs": [
    {
     "data": {
      "text/plain": [
       "2142"
      ]
     },
     "execution_count": 269,
     "metadata": {},
     "output_type": "execute_result"
    }
   ],
   "source": [
    "cat_df.Count.sum()"
   ]
  },
  {
   "cell_type": "code",
   "execution_count": 224,
   "id": "1940d8bf",
   "metadata": {
    "scrolled": true
   },
   "outputs": [
    {
     "data": {
      "image/png": "[encoded data removed]",
      "text/plain": [
       "<Figure size 1080x720 with 1 Axes>"
      ]
     },
     "metadata": {
      "needs_background": "light"
     },
     "output_type": "display_data"
    }
   ],
   "source": [
    "# Plotting the distribution of Categories as a Count Plot\n",
    "\n",
    "plt.figure(figsize = (15,10))\n",
    "cv_plot = sns.barplot(y=cat_df.Category, x = cat_df.Count)\n",
    "cv_plot.set_xlabel('count',fontsize=25);\n",
    "cv_plot.set_ylabel('Category',fontsize=25);\n",
    "cv_plot.tick_params(labelsize=15);"
   ]
  },
  {
   "cell_type": "markdown",
   "id": "7bbe009d",
   "metadata": {},
   "source": [
    "# PDF files processing"
   ]
  },
  {
   "cell_type": "code",
   "execution_count": 377,
   "id": "cb788394",
   "metadata": {},
   "outputs": [],
   "source": [
    "pdf_folder_path = r'C:\\Users\\Cohan\\Documents\\שבתון צחי\\Resumes\\DB3\\Resume&Job_Description\\Original_Resumes\\**\\*.pdf'\n",
    "pdf_file_list = glob.glob(pdf_folder_path, recursive=True)"
   ]
  },
  {
   "cell_type": "code",
   "execution_count": 378,
   "id": "55683844",
   "metadata": {},
   "outputs": [],
   "source": [
    "pdf_cv_list = []"
   ]
  },
  {
   "cell_type": "code",
   "execution_count": 379,
   "id": "06ef0da7",
   "metadata": {
    "scrolled": true
   },
   "outputs": [],
   "source": [
    "import fitz # install using: pip install PyMuPDF\n",
    "\n",
    "for i in range(0,len(pdf_file_list)):\n",
    "    with fitz.open(pdf_file_list[i]) as doc:\n",
    "        cv = \"\"\n",
    "        for page in doc:\n",
    "            cv += page.get_text()\n",
    "    \n",
    "    file_desc = pdf_file_list[i].split('\\\\')\n",
    "    title = file_desc[-1][:-4] # dropping the '.pdf'\n",
    "    if len(file_desc)==12:\n",
    "        category = file_desc[-3]\n",
    "        company_job = file_desc[-2].split(\" - \")\n",
    "        company = company_job[0]\n",
    "        if len(company_job) == 2:\n",
    "            job = company_job[1]\n",
    "        else:\n",
    "            job = \"unknown\"\n",
    "    elif len(file_desc)==11:\n",
    "        category = file_desc[-2]\n",
    "        company = \"Unknown\"\n",
    "        job = \"Unknown\"\n",
    "        \n",
    "    pdf_cv_list.append([category, company, job, title, cv])"
   ]
  },
  {
   "cell_type": "code",
   "execution_count": 380,
   "id": "960998ee",
   "metadata": {},
   "outputs": [],
   "source": [
    "pdf_cv_df = pd.DataFrame(pdf_cv_list, columns=['Category', 'Company', 'Job', 'Title','CV'])"
   ]
  },
  {
   "cell_type": "code",
   "execution_count": 381,
   "id": "b68c3d30",
   "metadata": {
    "scrolled": true
   },
   "outputs": [
    {
     "name": "stdout",
     "output_type": "stream",
     "text": [
      "<class 'pandas.core.frame.DataFrame'>\n",
      "RangeIndex: 1022 entries, 0 to 1021\n",
      "Data columns (total 5 columns):\n",
      " #   Column    Non-Null Count  Dtype \n",
      "---  ------    --------------  ----- \n",
      " 0   Category  1022 non-null   object\n",
      " 1   Company   1022 non-null   object\n",
      " 2   Job       1022 non-null   object\n",
      " 3   Title     1022 non-null   object\n",
      " 4   CV        1022 non-null   object\n",
      "dtypes: object(5)\n",
      "memory usage: 40.0+ KB\n"
     ]
    }
   ],
   "source": [
    "pdf_cv_df.info()"
   ]
  },
  {
   "cell_type": "markdown",
   "id": "c1957c5c",
   "metadata": {},
   "source": [
    "# DOCX files processing"
   ]
  },
  {
   "cell_type": "code",
   "execution_count": 368,
   "id": "0cbd2054",
   "metadata": {},
   "outputs": [],
   "source": [
    "docx_folder_path = r'C:\\Users\\Cohan\\Documents\\שבתון צחי\\Resumes\\DB3\\Resume&Job_Description\\Original_Resumes\\**\\*.docx'\n",
    "docx_file_list = glob.glob(docx_folder_path, recursive=True)"
   ]
  },
  {
   "cell_type": "code",
   "execution_count": 369,
   "id": "ae63cf61",
   "metadata": {},
   "outputs": [],
   "source": [
    "docx_cv_list = []"
   ]
  },
  {
   "cell_type": "code",
   "execution_count": 370,
   "id": "225c32fa",
   "metadata": {},
   "outputs": [],
   "source": [
    "import docx2txt # install using: pip install docx2txt\n",
    "\n",
    "for i in range(0,len(docx_file_list)):\n",
    "    cv = docx2txt.process(docx_file_list[i])\n",
    "    \n",
    "    file_desc = docx_file_list[i].split('\\\\')\n",
    "    title = file_desc[-1][:-4] # dropping the '.pdf'\n",
    "    if len(file_desc)==12:\n",
    "        category = file_desc[-3]\n",
    "        company_job = file_desc[-2].split(\" - \")\n",
    "        company = company_job[0]\n",
    "        if len(company_job) == 2:\n",
    "            job = company_job[1]\n",
    "        else:\n",
    "            job = \"unknown\"\n",
    "    elif len(file_desc)==11:\n",
    "        category = file_desc[-2]\n",
    "        company = \"Unknown\"\n",
    "        job = \"Unknown\"\n",
    "        \n",
    "    docx_cv_list.append([category, company, job, title, cv])"
   ]
  },
  {
   "cell_type": "code",
   "execution_count": 372,
   "id": "23c50606",
   "metadata": {},
   "outputs": [],
   "source": [
    "docx_cv_df = pd.DataFrame(docx_cv_list, columns=['Category', 'Company', 'Job', 'Title','CV'])"
   ]
  },
  {
   "cell_type": "code",
   "execution_count": 373,
   "id": "dd1ea4a4",
   "metadata": {},
   "outputs": [
    {
     "name": "stdout",
     "output_type": "stream",
     "text": [
      "<class 'pandas.core.frame.DataFrame'>\n",
      "RangeIndex: 511 entries, 0 to 510\n",
      "Data columns (total 5 columns):\n",
      " #   Column    Non-Null Count  Dtype \n",
      "---  ------    --------------  ----- \n",
      " 0   Category  511 non-null    object\n",
      " 1   Company   511 non-null    object\n",
      " 2   Job       511 non-null    object\n",
      " 3   Title     511 non-null    object\n",
      " 4   CV        511 non-null    object\n",
      "dtypes: object(5)\n",
      "memory usage: 20.1+ KB\n"
     ]
    }
   ],
   "source": [
    "docx_cv_df.info()"
   ]
  },
  {
   "cell_type": "code",
   "execution_count": 375,
   "id": "78acbfba",
   "metadata": {},
   "outputs": [
    {
     "data": {
      "text/html": [
       "<div>\n",
       "<style scoped>\n",
       "    .dataframe tbody tr th:only-of-type {\n",
       "        vertical-align: middle;\n",
       "    }\n",
       "\n",
       "    .dataframe tbody tr th {\n",
       "        vertical-align: top;\n",
       "    }\n",
       "\n",
       "    .dataframe thead th {\n",
       "        text-align: right;\n",
       "    }\n",
       "</style>\n",
       "<table border=\"1\" class=\"dataframe\">\n",
       "  <thead>\n",
       "    <tr style=\"text-align: right;\">\n",
       "      <th></th>\n",
       "      <th>Category</th>\n",
       "      <th>Company</th>\n",
       "      <th>Job</th>\n",
       "      <th>Title</th>\n",
       "      <th>CV</th>\n",
       "    </tr>\n",
       "  </thead>\n",
       "  <tbody>\n",
       "    <tr>\n",
       "      <th>0</th>\n",
       "      <td>Administration</td>\n",
       "      <td>CDIB HK</td>\n",
       "      <td>Office Manager</td>\n",
       "      <td>China Investment_Cheung Hiu Wai_Admin Secretary.</td>\n",
       "      <td>CHEUNG, HIU WAI\\n\\nContact No.:\\n\\nDate of Birth:\\n\\n9681 2265\\n\\n1 October 1992\\n\\nEmail:\\n\\nHome Address:\\n\\n\\n\\nNationality:\\n\\nAvailability: \\n\\nssscarlettcheung@gmail.com\\n\\nFlat K, 22/F., Block 1, Harmony Garden, 9 Siu Sai Wan Road, Chai Wan, HK\\n\\nChinese\\n\\n24 July 2017\\n\\n\\n\\nWorking Experience:\\n\\n-11/2016 to 05/2017\\n\\nChina Investment Development Limited       \\n\\nPosition: Adminis...</td>\n",
       "    </tr>\n",
       "    <tr>\n",
       "      <th>1</th>\n",
       "      <td>Administration</td>\n",
       "      <td>CDIB HK</td>\n",
       "      <td>Office Manager</td>\n",
       "      <td>LJ Hooker_Vivian Shiu_Office Manager.</td>\n",
       "      <td>Vivian Shiu\\n\\nms.vivian.shiu@gmail.com | +852 5343 6168 (Hong Kong) | Sheung Wan\\n\\nEducation\\n\\nbachelar of commerce | graduated | Deakin University\\n\\nMajor: Human Resources Management; Second major: Marketing\\n\\nHigh Distinction was achieved in a Communication Unit (please see transcript) \\n\\nExperience\\n\\nOffice Manager | lj hooker (Australia real estate brand) | may 2012 – Jan 2017\\n\\nI ...</td>\n",
       "    </tr>\n",
       "    <tr>\n",
       "      <th>2</th>\n",
       "      <td>Administration</td>\n",
       "      <td>Legacy HK</td>\n",
       "      <td>PA</td>\n",
       "      <td>Carlyle_Christine Kam_EA.</td>\n",
       "      <td>CHRISTINE KAM\\n\\nHong Kong ● +852 64868998 ● kkfchristine@gmail.com\\n\\nLanguage: Native Cantonese, fluent English and Mandarin\\n\\n\\n\\nCAREER SUMMARY\\n\\n\\n\\nVersatile, over 10-year experience in the financial industry (9-year in administrative and secretarial areas; 2-year in customer service and sales).\\n\\nPossess excellent communication, interpersonal, planning and execution skills, consisten...</td>\n",
       "    </tr>\n",
       "    <tr>\n",
       "      <th>3</th>\n",
       "      <td>Administration</td>\n",
       "      <td>Legacy HK</td>\n",
       "      <td>PA</td>\n",
       "      <td>CBRE_Kelly Wong_PA.</td>\n",
       "      <td>CONFIDENTIAL\\n\\nCURRICULUM VITAE\\n\\n\\n\\n\\n\\n\\t\\t\\t\\t\\tName\\t:\\tWONG, Yuen-yi Kelly\\n\\n\\t\\t\\t\\t\\t\\tContact info\\t:\\t9862 8695\\n\\n\\t\\t\\t\\t\\t\\t\\t\\t\\twong.kelly@yahoo.com (email)\\n\\n\\n\\n\\n\\nWORKING EXPERIENCE\\n\\n\\n\\n\\tCBRE Limited (Property Management &amp; Consultancy)\\n\\n\\tJun 2008 – Sep 2017 \\n\\n\\tPersonal Assistant to Head of Research, Asia Pacific\\n\\n\\tServing bosses of American, British and Brit...</td>\n",
       "    </tr>\n",
       "    <tr>\n",
       "      <th>4</th>\n",
       "      <td>Administration</td>\n",
       "      <td>Legacy HK</td>\n",
       "      <td>PA</td>\n",
       "      <td>Everest Capital_Ophelia Lam_PA.</td>\n",
       "      <td>Page 2 of 3\\n\\n\\tOPHELIA LAM\\n\\n\\tT +852 9329 8573 | E opheliawy.lam@gmail.com\\nA Flat A, G/F Rear Block, 58 Village Road, Happy Valley, Hong Kong\\n\\n\\t\\n\\n\\tExperienced Executive Assistant gained from MNCS for global financial services industry over 13 Years.  I bring extensive experience in providing administrative support to senior management from group / regional office, as well as experie...</td>\n",
       "    </tr>\n",
       "  </tbody>\n",
       "</table>\n",
       "</div>"
      ],
      "text/plain": [
       "         Category    Company             Job  \\\n",
       "0  Administration    CDIB HK  Office Manager   \n",
       "1  Administration    CDIB HK  Office Manager   \n",
       "2  Administration  Legacy HK              PA   \n",
       "3  Administration  Legacy HK              PA   \n",
       "4  Administration  Legacy HK              PA   \n",
       "\n",
       "                                              Title  \\\n",
       "0  China Investment_Cheung Hiu Wai_Admin Secretary.   \n",
       "1             LJ Hooker_Vivian Shiu_Office Manager.   \n",
       "2                         Carlyle_Christine Kam_EA.   \n",
       "3                               CBRE_Kelly Wong_PA.   \n",
       "4                   Everest Capital_Ophelia Lam_PA.   \n",
       "\n",
       "                                                                                                                                                                                                                                                                                                                                                                                                                CV  \n",
       "0  CHEUNG, HIU WAI\\n\\nContact No.:\\n\\nDate of Birth:\\n\\n9681 2265\\n\\n1 October 1992\\n\\nEmail:\\n\\nHome Address:\\n\\n\\n\\nNationality:\\n\\nAvailability: \\n\\nssscarlettcheung@gmail.com\\n\\nFlat K, 22/F., Block 1, Harmony Garden, 9 Siu Sai Wan Road, Chai Wan, HK\\n\\nChinese\\n\\n24 July 2017\\n\\n\\n\\nWorking Experience:\\n\\n-11/2016 to 05/2017\\n\\nChina Investment Development Limited       \\n\\nPosition: Adminis...  \n",
       "1  Vivian Shiu\\n\\nms.vivian.shiu@gmail.com | +852 5343 6168 (Hong Kong) | Sheung Wan\\n\\nEducation\\n\\nbachelar of commerce | graduated | Deakin University\\n\\nMajor: Human Resources Management; Second major: Marketing\\n\\nHigh Distinction was achieved in a Communication Unit (please see transcript) \\n\\nExperience\\n\\nOffice Manager | lj hooker (Australia real estate brand) | may 2012 – Jan 2017\\n\\nI ...  \n",
       "2  CHRISTINE KAM\\n\\nHong Kong ● +852 64868998 ● kkfchristine@gmail.com\\n\\nLanguage: Native Cantonese, fluent English and Mandarin\\n\\n\\n\\nCAREER SUMMARY\\n\\n\\n\\nVersatile, over 10-year experience in the financial industry (9-year in administrative and secretarial areas; 2-year in customer service and sales).\\n\\nPossess excellent communication, interpersonal, planning and execution skills, consisten...  \n",
       "3  CONFIDENTIAL\\n\\nCURRICULUM VITAE\\n\\n\\n\\n\\n\\n\\t\\t\\t\\t\\tName\\t:\\tWONG, Yuen-yi Kelly\\n\\n\\t\\t\\t\\t\\t\\tContact info\\t:\\t9862 8695\\n\\n\\t\\t\\t\\t\\t\\t\\t\\t\\twong.kelly@yahoo.com (email)\\n\\n\\n\\n\\n\\nWORKING EXPERIENCE\\n\\n\\n\\n\\tCBRE Limited (Property Management & Consultancy)\\n\\n\\tJun 2008 – Sep 2017 \\n\\n\\tPersonal Assistant to Head of Research, Asia Pacific\\n\\n\\tServing bosses of American, British and Brit...  \n",
       "4  Page 2 of 3\\n\\n\\tOPHELIA LAM\\n\\n\\tT +852 9329 8573 | E opheliawy.lam@gmail.com\\nA Flat A, G/F Rear Block, 58 Village Road, Happy Valley, Hong Kong\\n\\n\\t\\n\\n\\tExperienced Executive Assistant gained from MNCS for global financial services industry over 13 Years.  I bring extensive experience in providing administrative support to senior management from group / regional office, as well as experie...  "
      ]
     },
     "execution_count": 375,
     "metadata": {},
     "output_type": "execute_result"
    }
   ],
   "source": [
    "docx_cv_df.head()"
   ]
  },
  {
   "cell_type": "markdown",
   "id": "efa6952e",
   "metadata": {},
   "source": [
    "# Combining the DFs and saving to csv"
   ]
  },
  {
   "cell_type": "code",
   "execution_count": 384,
   "id": "c10f7431",
   "metadata": {},
   "outputs": [],
   "source": [
    "cv_df = pd.concat([pdf_cv_df,docx_cv_df])"
   ]
  },
  {
   "cell_type": "code",
   "execution_count": 385,
   "id": "f9e38cf9",
   "metadata": {},
   "outputs": [
    {
     "name": "stdout",
     "output_type": "stream",
     "text": [
      "<class 'pandas.core.frame.DataFrame'>\n",
      "Int64Index: 1533 entries, 0 to 510\n",
      "Data columns (total 5 columns):\n",
      " #   Column    Non-Null Count  Dtype \n",
      "---  ------    --------------  ----- \n",
      " 0   Category  1533 non-null   object\n",
      " 1   Company   1533 non-null   object\n",
      " 2   Job       1533 non-null   object\n",
      " 3   Title     1533 non-null   object\n",
      " 4   CV        1533 non-null   object\n",
      "dtypes: object(5)\n",
      "memory usage: 71.9+ KB\n"
     ]
    }
   ],
   "source": [
    "cv_df.info()"
   ]
  },
  {
   "cell_type": "code",
   "execution_count": 386,
   "id": "294aca0e",
   "metadata": {},
   "outputs": [],
   "source": [
    "cv_df.to_csv(r'C:\\Users\\Cohan\\Documents\\שבתון צחי\\Resumes\\DB3\\DB3_CV.csv',\n",
    "             index=False,\n",
    "             header=['Category', 'Company', 'Job', 'Title','CV'])"
   ]
  }
 ],
 "metadata": {
  "kernelspec": {
   "display_name": "Python 3 (ipykernel)",
   "language": "python",
   "name": "python3"
  },
  "language_info": {
   "codemirror_mode": {
    "name": "ipython",
    "version": 3
   },
   "file_extension": ".py",
   "mimetype": "text/x-python",
   "name": "python",
   "nbconvert_exporter": "python",
   "pygments_lexer": "ipython3",
   "version": "3.9.7"
  }
 },
 "nbformat": 4,
 "nbformat_minor": 5
}
