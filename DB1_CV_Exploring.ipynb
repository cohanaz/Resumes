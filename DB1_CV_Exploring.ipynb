{
 "cells": [
  {
   "cell_type": "code",
   "execution_count": 2,
   "id": "e5b62a88",
   "metadata": {},
   "outputs": [],
   "source": [
    "import pandas as pd\n",
    "import seaborn as sns\n",
    "import matplotlib.pyplot as plt"
   ]
  },
  {
   "cell_type": "code",
   "execution_count": 3,
   "id": "c10034ce",
   "metadata": {},
   "outputs": [],
   "source": [
    "cv_df = pd.read_csv(r'C:\\Users\\Cohan\\Documents\\שבתון צחי\\Resumes\\DB1\\ResumeDataSet.csv')"
   ]
  },
  {
   "cell_type": "code",
   "execution_count": 4,
   "id": "3b1d4fc4",
   "metadata": {
    "scrolled": false
   },
   "outputs": [
    {
     "name": "stdout",
     "output_type": "stream",
     "text": [
      "<class 'pandas.core.frame.DataFrame'>\n",
      "RangeIndex: 962 entries, 0 to 961\n",
      "Data columns (total 2 columns):\n",
      " #   Column    Non-Null Count  Dtype \n",
      "---  ------    --------------  ----- \n",
      " 0   Category  962 non-null    object\n",
      " 1   Resume    962 non-null    object\n",
      "dtypes: object(2)\n",
      "memory usage: 15.2+ KB\n"
     ]
    }
   ],
   "source": [
    "cv_df.info()"
   ]
  },
  {
   "cell_type": "code",
   "execution_count": 41,
   "id": "34adedae",
   "metadata": {},
   "outputs": [
    {
     "data": {
      "text/plain": [
       "Category     25\n",
       "Resume      166\n",
       "dtype: int64"
      ]
     },
     "execution_count": 41,
     "metadata": {},
     "output_type": "execute_result"
    }
   ],
   "source": [
    "cv_df.nunique()"
   ]
  },
  {
   "cell_type": "code",
   "execution_count": 45,
   "id": "a31f00db",
   "metadata": {},
   "outputs": [
    {
     "data": {
      "text/html": [
       "<div>\n",
       "<style scoped>\n",
       "    .dataframe tbody tr th:only-of-type {\n",
       "        vertical-align: middle;\n",
       "    }\n",
       "\n",
       "    .dataframe tbody tr th {\n",
       "        vertical-align: top;\n",
       "    }\n",
       "\n",
       "    .dataframe thead th {\n",
       "        text-align: right;\n",
       "    }\n",
       "</style>\n",
       "<table border=\"1\" class=\"dataframe\">\n",
       "  <thead>\n",
       "    <tr style=\"text-align: right;\">\n",
       "      <th></th>\n",
       "      <th>Category</th>\n",
       "      <th>Resume</th>\n",
       "    </tr>\n",
       "  </thead>\n",
       "  <tbody>\n",
       "    <tr>\n",
       "      <th>0</th>\n",
       "      <td>Data Science</td>\n",
       "      <td>Skills * Programming Languages: Python (pandas, numpy, scipy, scikit-learn, matplotlib), Sql, Java, JavaScript/JQuery. * Machine learning: Regression, SVM, NaÃ¯ve Bayes, KNN, Random Forest, Decision Trees, Boosting techniques, Cluster Analysis, Word Embedding, Sentiment Analysis, Natural Language processing, Dimensionality reduction, Topic Modelling (LDA, NMF), PCA &amp; Neural Nets. * Database Vi...</td>\n",
       "    </tr>\n",
       "    <tr>\n",
       "      <th>1</th>\n",
       "      <td>Data Science</td>\n",
       "      <td>Education Details \\r\\nMay 2013 to May 2017 B.E   UIT-RGPV\\r\\nData Scientist \\r\\n\\r\\nData Scientist - Matelabs\\r\\nSkill Details \\r\\nPython- Exprience - Less than 1 year months\\r\\nStatsmodels- Exprience - 12 months\\r\\nAWS- Exprience - Less than 1 year months\\r\\nMachine learning- Exprience - Less than 1 year months\\r\\nSklearn- Exprience - Less than 1 year months\\r\\nScipy- Exprience - Less than 1 ...</td>\n",
       "    </tr>\n",
       "    <tr>\n",
       "      <th>2</th>\n",
       "      <td>Data Science</td>\n",
       "      <td>Areas of Interest Deep Learning, Control System Design, Programming in-Python, Electric Machinery, Web Development, Analytics Technical Activities q Hindustan Aeronautics Limited, Bangalore - For 4 weeks under the guidance of Mr. Satish, Senior Engineer in the hangar of Mirage 2000 fighter aircraft Technical Skills Programming Matlab, Python and Java, LabView, Python WebFrameWork-Django, Flask...</td>\n",
       "    </tr>\n",
       "    <tr>\n",
       "      <th>3</th>\n",
       "      <td>Data Science</td>\n",
       "      <td>Skills â¢ R â¢ Python â¢ SAP HANA â¢ Tableau â¢ SAP HANA SQL â¢ SAP HANA PAL â¢ MS SQL â¢ SAP Lumira â¢ C# â¢ Linear Programming â¢ Data Modelling â¢ Advance Analytics â¢ SCM Analytics â¢ Retail Analytics â¢Social Media Analytics â¢ NLP Education Details \\r\\nJanuary 2017 to January 2018 PGDM Business Analytics  Great Lakes Institute of Management &amp; Illinois Institute of Technol...</td>\n",
       "    </tr>\n",
       "    <tr>\n",
       "      <th>4</th>\n",
       "      <td>Data Science</td>\n",
       "      <td>Education Details \\r\\n MCA   YMCAUST,  Faridabad,  Haryana\\r\\nData Science internship \\r\\n\\r\\n\\r\\nSkill Details \\r\\nData Structure- Exprience - Less than 1 year months\\r\\nC- Exprience - Less than 1 year months\\r\\nData Analysis- Exprience - Less than 1 year months\\r\\nPython- Exprience - Less than 1 year months\\r\\nCore Java- Exprience - Less than 1 year months\\r\\nDatabase Management- Exprience -...</td>\n",
       "    </tr>\n",
       "  </tbody>\n",
       "</table>\n",
       "</div>"
      ],
      "text/plain": [
       "       Category  \\\n",
       "0  Data Science   \n",
       "1  Data Science   \n",
       "2  Data Science   \n",
       "3  Data Science   \n",
       "4  Data Science   \n",
       "\n",
       "                                                                                                                                                                                                                                                                                                                                                                                                            Resume  \n",
       "0  Skills * Programming Languages: Python (pandas, numpy, scipy, scikit-learn, matplotlib), Sql, Java, JavaScript/JQuery. * Machine learning: Regression, SVM, NaÃ¯ve Bayes, KNN, Random Forest, Decision Trees, Boosting techniques, Cluster Analysis, Word Embedding, Sentiment Analysis, Natural Language processing, Dimensionality reduction, Topic Modelling (LDA, NMF), PCA & Neural Nets. * Database Vi...  \n",
       "1  Education Details \\r\\nMay 2013 to May 2017 B.E   UIT-RGPV\\r\\nData Scientist \\r\\n\\r\\nData Scientist - Matelabs\\r\\nSkill Details \\r\\nPython- Exprience - Less than 1 year months\\r\\nStatsmodels- Exprience - 12 months\\r\\nAWS- Exprience - Less than 1 year months\\r\\nMachine learning- Exprience - Less than 1 year months\\r\\nSklearn- Exprience - Less than 1 year months\\r\\nScipy- Exprience - Less than 1 ...  \n",
       "2  Areas of Interest Deep Learning, Control System Design, Programming in-Python, Electric Machinery, Web Development, Analytics Technical Activities q Hindustan Aeronautics Limited, Bangalore - For 4 weeks under the guidance of Mr. Satish, Senior Engineer in the hangar of Mirage 2000 fighter aircraft Technical Skills Programming Matlab, Python and Java, LabView, Python WebFrameWork-Django, Flask...  \n",
       "3  Skills â¢ R â¢ Python â¢ SAP HANA â¢ Tableau â¢ SAP HANA SQL â¢ SAP HANA PAL â¢ MS SQL â¢ SAP Lumira â¢ C# â¢ Linear Programming â¢ Data Modelling â¢ Advance Analytics â¢ SCM Analytics â¢ Retail Analytics â¢Social Media Analytics â¢ NLP Education Details \\r\\nJanuary 2017 to January 2018 PGDM Business Analytics  Great Lakes Institute of Management & Illinois Institute of Technol...  \n",
       "4  Education Details \\r\\n MCA   YMCAUST,  Faridabad,  Haryana\\r\\nData Science internship \\r\\n\\r\\n\\r\\nSkill Details \\r\\nData Structure- Exprience - Less than 1 year months\\r\\nC- Exprience - Less than 1 year months\\r\\nData Analysis- Exprience - Less than 1 year months\\r\\nPython- Exprience - Less than 1 year months\\r\\nCore Java- Exprience - Less than 1 year months\\r\\nDatabase Management- Exprience -...  "
      ]
     },
     "execution_count": 45,
     "metadata": {},
     "output_type": "execute_result"
    }
   ],
   "source": [
    "pd.set_option('max_colwidth', 400)\n",
    "cv_df.head()"
   ]
  },
  {
   "cell_type": "code",
   "execution_count": 44,
   "id": "82585e68",
   "metadata": {},
   "outputs": [
    {
     "name": "stdout",
     "output_type": "stream",
     "text": [
      "<class 'pandas.core.frame.DataFrame'>\n",
      "Int64Index: 166 entries, 0 to 898\n",
      "Data columns (total 2 columns):\n",
      " #   Column    Non-Null Count  Dtype \n",
      "---  ------    --------------  ----- \n",
      " 0   Category  166 non-null    object\n",
      " 1   Resume    166 non-null    object\n",
      "dtypes: object(2)\n",
      "memory usage: 3.9+ KB\n"
     ]
    }
   ],
   "source": [
    "clean_cv_df = cv_df.drop_duplicates()\n",
    "clean_cv_df.info()"
   ]
  },
  {
   "cell_type": "code",
   "execution_count": 63,
   "id": "dbf2a6a3",
   "metadata": {},
   "outputs": [
    {
     "data": {
      "text/html": [
       "<div>\n",
       "<style scoped>\n",
       "    .dataframe tbody tr th:only-of-type {\n",
       "        vertical-align: middle;\n",
       "    }\n",
       "\n",
       "    .dataframe tbody tr th {\n",
       "        vertical-align: top;\n",
       "    }\n",
       "\n",
       "    .dataframe thead th {\n",
       "        text-align: right;\n",
       "    }\n",
       "</style>\n",
       "<table border=\"1\" class=\"dataframe\">\n",
       "  <thead>\n",
       "    <tr style=\"text-align: right;\">\n",
       "      <th></th>\n",
       "      <th>Category</th>\n",
       "      <th>Resume</th>\n",
       "    </tr>\n",
       "  </thead>\n",
       "  <tbody>\n",
       "    <tr>\n",
       "      <th>0</th>\n",
       "      <td>Data Science</td>\n",
       "      <td>Skills * Programming Languages: Python (pandas, numpy, scipy, scikit-learn, matplotlib), Sql, Java, JavaScript/JQuery. * Machine learning: Regression, SVM, NaÃ¯ve Bayes, KNN, Random Forest, Decision Trees, Boosting techniques, Cluster Analysis, Word Embedding, Sentiment Analysis, Natural Language processing, Dimensionality reduction, Topic Modelling (LDA, NMF), PCA &amp; Neural Nets. * Database Vi...</td>\n",
       "    </tr>\n",
       "    <tr>\n",
       "      <th>511</th>\n",
       "      <td>Operations Manager</td>\n",
       "      <td>Education Details \\r\\n BCA   Vinayaka Missions University\\r\\nOperations Manager \\r\\n\\r\\nOperations Manager\\r\\nSkill Details \\r\\nOperations Management- Exprience - Less than 1 year monthsCompany Details \\r\\ncompany - BNY Mellon International Operations (India) Pvt. Ltd\\r\\ndescription - Organization: BNY Mellon International Operations (India) Pvt. Ltd.: Sept 2009- till date\\r\\nBNY Mellon provid...</td>\n",
       "    </tr>\n",
       "    <tr>\n",
       "      <th>513</th>\n",
       "      <td>Operations Manager</td>\n",
       "      <td>IT SKILLS â¢ Well versed with MS Office and Internet Applications and various ERP systems implemented in the company ie.SAGE, Flotilla, LM ERP, Tally 9, WMS, Exceed 4000 etc PERSONAL DOSSIER Permanent Address: Bandra West, Mumbai 400 050Education Details \\r\\n B.Com commerce Mumbai, Maharashtra Bombay University\\r\\n   Mumbai, Maharashtra St. Andrews College\\r\\n DIM Business Management  IGNOU\\r...</td>\n",
       "    </tr>\n",
       "    <tr>\n",
       "      <th>655</th>\n",
       "      <td>Network Security Engineer</td>\n",
       "      <td>Skill Set â¢â¢Cisco Certified Network Associates (CCNA): - â¢ Basic knowledge of networking such as Ethernet mediums, ethernet communication, types of Ethernet communication devices etc. â¢ IPv4 (Subnetting, Supernetting) â¢ Basic configuration of Routing, Switching, Access lists, Network Address Translation (NAT), Virtual LANs (VLANs) etc â¢â¢Cisco Certified Network Associates (CCNA-Se...</td>\n",
       "    </tr>\n",
       "    <tr>\n",
       "      <th>680</th>\n",
       "      <td>PMO</td>\n",
       "      <td>AREA OF EXPERTISE (PROFILE) Around 10 plus years' proven experience with best global brand Wipro with below expertise:- â¢ PMO â¢ ITIL Management â¢ Process Improvements â¢ Project Process Audits â¢ Planning, Scheduling, Effort/Issue/Risk Tracking â¢ Risk &amp; Issue Management â¢ SLA Management â¢ Workforce (staffing) Resource Management. â¢ Transition â¢ Operations management SKILLS Pr...</td>\n",
       "    </tr>\n",
       "    <tr>\n",
       "      <th>715</th>\n",
       "      <td>Database</td>\n",
       "      <td>Technical Skills Databases: Oracle RDBMS- 10g, 11g &amp; 12c Technology/utilities: Data Pump, RMAN, Data guard, ASM, RAC, Golden Gate Tools: OCC, PUTTY, SQLPLUS, SQL Developer, Netbackup, SCOM, SCCM, VMWare Vsphere Operating Systems: RHEL 6.0, RHEL 6.5, UNIX and Microsoft WindowsEducation Details \\r\\n\\r\\nDatabase Administrator \\r\\n\\r\\nDatabase Administrator - BNY Mellon\\r\\nSkill Details \\r\\nDATABA...</td>\n",
       "    </tr>\n",
       "    <tr>\n",
       "      <th>748</th>\n",
       "      <td>Hadoop</td>\n",
       "      <td>Technical Skill Set Big Data Ecosystems: Hadoop, HDFS, HBase, Map Reduce, Sqoop, Hive, Pig, Spark-Core, Flume. Other Language: Scala, Core-Java, SQL, PLSQL, Sell Scripting ETL Tools: Informatica Power Center8.x/9.6, Talend 5.6 Tools: Eclipse, Intellij Idea. Platforms: Windows Family, Linux /UNIX, Cloudera. Databases: MySQL, Oracle.10/11gEducation Details \\r\\n M.C.A  Pune, MAHARASHTRA, IN Pune ...</td>\n",
       "    </tr>\n",
       "    <tr>\n",
       "      <th>855</th>\n",
       "      <td>Blockchain</td>\n",
       "      <td>SOFTWARE SKILLS: Languages: C, C++ &amp; java Operating Systems: Windows XP, 7, Ubuntu RDBMS: Oracle (SQL) Database, My SQL, PostgreSQL Markup &amp; Scripting: HTML, JavaScript &amp; PHP, CSS, JQuery, Angular js. Framework: Struts, Hibernate, spring, MVC Web Server: Tomcat and Glassfish. Web Services: REST AND SOAP TRAINING DETAIL Duration: 4 months From: - United Telecommunication Limited Jharnet project...</td>\n",
       "    </tr>\n",
       "  </tbody>\n",
       "</table>\n",
       "</div>"
      ],
      "text/plain": [
       "                      Category  \\\n",
       "0                 Data Science   \n",
       "511         Operations Manager   \n",
       "513         Operations Manager   \n",
       "655  Network Security Engineer   \n",
       "680                        PMO   \n",
       "715                   Database   \n",
       "748                     Hadoop   \n",
       "855                 Blockchain   \n",
       "\n",
       "                                                                                                                                                                                                                                                                                                                                                                                                              Resume  \n",
       "0    Skills * Programming Languages: Python (pandas, numpy, scipy, scikit-learn, matplotlib), Sql, Java, JavaScript/JQuery. * Machine learning: Regression, SVM, NaÃ¯ve Bayes, KNN, Random Forest, Decision Trees, Boosting techniques, Cluster Analysis, Word Embedding, Sentiment Analysis, Natural Language processing, Dimensionality reduction, Topic Modelling (LDA, NMF), PCA & Neural Nets. * Database Vi...  \n",
       "511  Education Details \\r\\n BCA   Vinayaka Missions University\\r\\nOperations Manager \\r\\n\\r\\nOperations Manager\\r\\nSkill Details \\r\\nOperations Management- Exprience - Less than 1 year monthsCompany Details \\r\\ncompany - BNY Mellon International Operations (India) Pvt. Ltd\\r\\ndescription - Organization: BNY Mellon International Operations (India) Pvt. Ltd.: Sept 2009- till date\\r\\nBNY Mellon provid...  \n",
       "513  IT SKILLS â¢ Well versed with MS Office and Internet Applications and various ERP systems implemented in the company ie.SAGE, Flotilla, LM ERP, Tally 9, WMS, Exceed 4000 etc PERSONAL DOSSIER Permanent Address: Bandra West, Mumbai 400 050Education Details \\r\\n B.Com commerce Mumbai, Maharashtra Bombay University\\r\\n   Mumbai, Maharashtra St. Andrews College\\r\\n DIM Business Management  IGNOU\\r...  \n",
       "655  Skill Set â¢â¢Cisco Certified Network Associates (CCNA): - â¢ Basic knowledge of networking such as Ethernet mediums, ethernet communication, types of Ethernet communication devices etc. â¢ IPv4 (Subnetting, Supernetting) â¢ Basic configuration of Routing, Switching, Access lists, Network Address Translation (NAT), Virtual LANs (VLANs) etc â¢â¢Cisco Certified Network Associates (CCNA-Se...  \n",
       "680  AREA OF EXPERTISE (PROFILE) Around 10 plus years' proven experience with best global brand Wipro with below expertise:- â¢ PMO â¢ ITIL Management â¢ Process Improvements â¢ Project Process Audits â¢ Planning, Scheduling, Effort/Issue/Risk Tracking â¢ Risk & Issue Management â¢ SLA Management â¢ Workforce (staffing) Resource Management. â¢ Transition â¢ Operations management SKILLS Pr...  \n",
       "715  Technical Skills Databases: Oracle RDBMS- 10g, 11g & 12c Technology/utilities: Data Pump, RMAN, Data guard, ASM, RAC, Golden Gate Tools: OCC, PUTTY, SQLPLUS, SQL Developer, Netbackup, SCOM, SCCM, VMWare Vsphere Operating Systems: RHEL 6.0, RHEL 6.5, UNIX and Microsoft WindowsEducation Details \\r\\n\\r\\nDatabase Administrator \\r\\n\\r\\nDatabase Administrator - BNY Mellon\\r\\nSkill Details \\r\\nDATABA...  \n",
       "748  Technical Skill Set Big Data Ecosystems: Hadoop, HDFS, HBase, Map Reduce, Sqoop, Hive, Pig, Spark-Core, Flume. Other Language: Scala, Core-Java, SQL, PLSQL, Sell Scripting ETL Tools: Informatica Power Center8.x/9.6, Talend 5.6 Tools: Eclipse, Intellij Idea. Platforms: Windows Family, Linux /UNIX, Cloudera. Databases: MySQL, Oracle.10/11gEducation Details \\r\\n M.C.A  Pune, MAHARASHTRA, IN Pune ...  \n",
       "855  SOFTWARE SKILLS: Languages: C, C++ & java Operating Systems: Windows XP, 7, Ubuntu RDBMS: Oracle (SQL) Database, My SQL, PostgreSQL Markup & Scripting: HTML, JavaScript & PHP, CSS, JQuery, Angular js. Framework: Struts, Hibernate, spring, MVC Web Server: Tomcat and Glassfish. Web Services: REST AND SOAP TRAINING DETAIL Duration: 4 months From: - United Telecommunication Limited Jharnet project...  "
      ]
     },
     "execution_count": 63,
     "metadata": {},
     "output_type": "execute_result"
    }
   ],
   "source": [
    "clean_cv_df[list([cv.lower().find('address')>0 for cv in clean_cv_df.Resume])]"
   ]
  },
  {
   "cell_type": "code",
   "execution_count": 60,
   "id": "1e37386b",
   "metadata": {},
   "outputs": [
    {
     "name": "stdout",
     "output_type": "stream",
     "text": [
      "Education Details \r\n",
      " B.Tech   Rayat and Bahra Institute of Engineering and Biotechnology\r\n",
      "Data Science \r\n",
      "\r\n",
      "Data Science\r\n",
      "Skill Details \r\n",
      "Numpy- Exprience - Less than 1 year months\r\n",
      "Machine Learning- Exprience - Less than 1 year months\r\n",
      "Tensorflow- Exprience - Less than 1 year months\r\n",
      "Scikit- Exprience - Less than 1 year months\r\n",
      "Python- Exprience - Less than 1 year months\r\n",
      "GCP- Exprience - Less than 1 year months\r\n",
      "Pandas- Exprience - Less than 1 year months\r\n",
      "Neural Network- Exprience - Less than 1 year monthsCompany Details \r\n",
      "company - Wipro\r\n",
      "description - Bhawana Aggarwal\r\n",
      "E-Mail:bhawana.chd@gmail.com\r\n",
      "Phone: 09876971076\r\n",
      "VVersatile, high-energy professional targeting challenging assignments in Machine\r\n",
      "PROFILE SUMMARY\r\n",
      "âª An IT professional with knowledge and experience of 2 years in Wipro Technologies in Machine\r\n",
      "Learning, Deep Learning, Data Science, Python, Software Development.\r\n",
      "âª Skilled in managing end-to-end development and software products / projects from inception, requirement\r\n",
      "specs, planning, designing, implementation, configuration and documentation.\r\n",
      "âª Knowledge on Python , Machine Learning, Deep Learning, data Science, Algorithms, Neural Network,\r\n",
      "NLP, GCP.\r\n",
      "âª Knowledge on Python Libraries like Numpy, Pandas, Seaborn , Matplotlib, Cufflinks.\r\n",
      "âª Knowledge on different algorithms in Machine learning like KNN, Decision Tree, Bias variance Trade off,\r\n",
      "Support vector Machine(SVM),Logistic Regression, Neural networks.\r\n",
      "âª Have knowledge on unsupervised, Supervised and reinforcement data.\r\n",
      "âª Programming experience in relational platforms like MySQL,Oracle.\r\n",
      "âª Have knowledge on Some programming language like C++,Java.\r\n",
      "âª Experience in cloud based environment like Google Cloud.\r\n",
      "âª Working on different Operating System like Linux, Ubuntu, Windows.\r\n",
      "âª Good interpersonal and communication skills.\r\n",
      "âª Problem solving skills with the ability to think laterally, and to think with a medium term and long term\r\n",
      "perspective\r\n",
      "âª Flexibility and an open attitude to change.\r\n",
      "âª Ability to create, define and own frameworks with a strong emphasis on code reusability.\r\n",
      "TECHNICAL SKILLS\r\n",
      "Programming Languages Python, C\r\n",
      "Libraries Seaborn, Numpy, Pandas, Cufflinks, Matplotlib\r\n",
      "Algorithms\r\n",
      "KNN, Decision Tree, Linear regression, Logistic Regression, Neural Networks, K means clustering,\r\n",
      "Tensorflow, SVM\r\n",
      "Databases SQL, Oracle\r\n",
      "Operating Systems Linux, Window\r\n",
      "Development Environments NetBeans, Notebooks, Sublime\r\n",
      "Ticketing tools Service Now, Remedy\r\n",
      "Education\r\n",
      "UG Education:\r\n",
      "B.Tech (Computer Science) from Rayat and Bahra Institute of Engineering and Biotechnology passed with 78.4%in\r\n",
      "2016.\r\n",
      "Schooling:\r\n",
      "XII in 2012 from Moti Ram Arya Sr. Secondary School(Passed with 78.4%)\r\n",
      "X in 2010 from Valley Public School (Passed with 9.4 CGPA)\r\n",
      "WORK EXPERINCE\r\n",
      "Title : Wipro Neural Intelligence Platform\r\n",
      "Team Size : 5\r\n",
      "Brief: Wiproâs Neural Intelligence Platform harnesses the power of automation and artificial intelligence\r\n",
      "technologiesânatural language processing (NLP), cognitive, machine learning, and analytics. The platform\r\n",
      "comprises three layers: a data engagement platform that can easily access and manage multiple structured and\r\n",
      "unstructured data sources; an âintent assessment and reasoningâ engine that includes sentiment and predictive\r\n",
      "analytics; and a deep machine learning engine that can sense, act, and learn over time. The project entailed\r\n",
      "automating responses to user queries at the earliest. The Monster Bot using the power of Deep Machine Learning,\r\n",
      "NLP to handle such queries. User can see the how their queries can be answered quickly like allL1 activities can be\r\n",
      "eliminated.\r\n",
      "Entity Extractor -> This involves text extraction and NLP for fetching out important information from the text like\r\n",
      "dates, names, places, contact numbers etc. This involves Regex, Bluemix NLU apiâs and machine learning using\r\n",
      "Tensor flow for further learning of new entities.\r\n",
      "Classifier ->This involves the classifications of classes, training of dataset and predicting the output using the SKLearn\r\n",
      "classifier (MNB, SVM, SGD as Classifier) and SGD for the optimization to map the user queries with the best\r\n",
      "suited response and make the system efficient.\r\n",
      "NER: A Deep Learning NER Model is trained to extract the entities from the text. Entities like Roles, Skills,\r\n",
      "Organizations can be extracted from raw text. RNN(LSTM) Bidirectional model is trained for extracting such entities\r\n",
      "using Keras TensorFlow framework.\r\n",
      "OTHER PROJECTS\r\n",
      "Title : Diabetes Detection\r\n",
      "Brief : Developed the software which can detect whether the person is suffering from Diabetes or not and got the third\r\n",
      "prize in it.\r\n",
      "TRAINING AND CERTIFICATIONS\r\n",
      "Title: Python Training, Machine Learning, Data Science, Deep Learning\r\n",
      "Organization: Udemy, Coursera (Machine Learning, Deep Learning)\r\n",
      "Personal Profile\r\n",
      "Fatherâs Name :Mr. Tirlok Aggarwal\r\n",
      "Language Known : English & Hindi\r\n",
      "Marital Status :Single\r\n",
      "Date of Birth(Gender):1993-12-20(YYYY-MM-DD) (F)\r\n",
      "company - Wipro\r\n",
      "description - Developing programs in Python.\r\n",
      "company - Wipro\r\n",
      "description - Title : Wipro Neural Intelligence Platform\r\n",
      "Team Size : 5\r\n",
      "Brief: Wiproâs Neural Intelligence Platform harnesses the power of automation and artificial intelligence\r\n",
      "technologiesânatural language processing (NLP), cognitive, machine learning, and analytics. The platform\r\n",
      "comprises three layers: a data engagement platform that can easily access and manage multiple structured and\r\n",
      "unstructured data sources; an âintent assessment and reasoningâ engine that includes sentiment and predictive\r\n",
      "analytics; and a deep machine learning engine that can sense, act, and learn over time. The project entailed\r\n",
      "automating responses to user queries at the earliest. The Monster Bot using the power of Deep Machine Learning,\r\n",
      "NLP to handle such queries. User can see the how their queries can be answered quickly like allL1 activities can be\r\n",
      "eliminated.\r\n",
      "Entity Extractor -> This involves text extraction and NLP for fetching out important information from the text like\r\n",
      "dates, names, places, contact numbers etc. This involves Regex, Bluemix NLU apiâs and machine learning using\r\n",
      "Tensor flow for further learning of new entities.\r\n",
      "Classifier ->This involves the classifications of classes, training of dataset and predicting the output using the SKLearn\r\n",
      "classifier (MNB, SVM, SGD as Classifier) and SGD for the optimization to map the user queries with the best\r\n",
      "suited response and make the system efficient.\r\n",
      "NER: A Deep Learning NER Model is trained to extract the entities from the text. Entities like Roles, Skills,\r\n",
      "Organizations can be extracted from raw text. RNN(LSTM) Bidirectional model is trained for extracting such entities\r\n",
      "using Keras TensorFlow framework.\r\n",
      "company - Wipro Technologies\r\n",
      "description - An IT professional with knowledge and experience of 2 years in Wipro Technologies in Machine\r\n",
      "Learning, Deep Learning, Data Science, Python, Software Development.\r\n",
      "âª Skilled in managing end-to-end development and software products / projects from inception, requirement\r\n",
      "specs, planning, designing, implementation, configuration and documentation.\r\n",
      "âª Knowledge on Python , Machine Learning, Deep Learning, data Science, Algorithms, Neural Network,\r\n",
      "NLP, GCP.\r\n",
      "âª Knowledge on Python Libraries like Numpy, Pandas, Seaborn , Matplotlib, Cufflinks.\r\n",
      "âª Knowledge on different algorithms in Machine learning like KNN, Decision Tree, Bias variance Trade off,\r\n",
      "Support vector Machine(SVM),Logistic Regression, Neural networks.\r\n",
      "âª Have knowledge on unsupervised, Supervised and reinforcement data.\r\n",
      "âª Programming experience in relational platforms like MySQL,Oracle.\r\n",
      "âª Have knowledge on Some programming language like C++,Java.\r\n",
      "âª Experience in cloud based environment like Google Cloud.\r\n",
      "âª Working on different Operating System like Linux, Ubuntu, Windows.\r\n",
      "âª Good interpersonal and communication skills.\r\n",
      "âª Problem solving skills with the ability to think laterally, and to think with a medium term and long term\r\n",
      "perspective\r\n",
      "âª Flexibility and an open attitude to change.\r\n",
      "âª Ability to create, define and own frameworks with a strong emphasis on code reusability.\n"
     ]
    }
   ],
   "source": [
    "print(clean_cv_df.Resume[7])"
   ]
  },
  {
   "cell_type": "code",
   "execution_count": 47,
   "id": "78429e49",
   "metadata": {},
   "outputs": [
    {
     "data": {
      "image/png": "[encoded data removed]",
      "text/plain": [
       "<Figure size 1080x720 with 1 Axes>"
      ]
     },
     "metadata": {
      "needs_background": "light"
     },
     "output_type": "display_data"
    }
   ],
   "source": [
    "# Plotting the distribution of Categories as a Count Plot\n",
    "\n",
    "plt.figure(figsize = (15,10))\n",
    "cv_plot = sns.countplot(y=\"Category\", data = clean_cv_df)\n",
    "cv_plot.set_xlabel('count',fontsize=25);\n",
    "cv_plot.set_ylabel('Category',fontsize=25);\n",
    "cv_plot.tick_params(labelsize=15);"
   ]
  }
 ],
 "metadata": {
  "kernelspec": {
   "display_name": "Python 3 (ipykernel)",
   "language": "python",
   "name": "python3"
  },
  "language_info": {
   "codemirror_mode": {
    "name": "ipython",
    "version": 3
   },
   "file_extension": ".py",
   "mimetype": "text/x-python",
   "name": "python",
   "nbconvert_exporter": "python",
   "pygments_lexer": "ipython3",
   "version": "3.9.7"
  }
 },
 "nbformat": 4,
 "nbformat_minor": 5
}
